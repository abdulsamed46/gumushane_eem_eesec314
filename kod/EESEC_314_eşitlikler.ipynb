{
  "nbformat": 4,
  "nbformat_minor": 0,
  "metadata": {
    "colab": {
      "name": "EESEC_314_eşitlikler.ipynb",
      "provenance": [],
      "authorship_tag": "ABX9TyOWYhio+y6aBUe298zjsNIe",
      "include_colab_link": true
    },
    "kernelspec": {
      "name": "python3",
      "display_name": "Python 3"
    },
    "language_info": {
      "name": "python"
    }
  },
  "cells": [
    {
      "cell_type": "markdown",
      "metadata": {
        "id": "view-in-github",
        "colab_type": "text"
      },
      "source": [
        "<a href=\"https://colab.research.google.com/github/taha-koroglu/gumushane_eem_eesec314/blob/main/kod/EESEC_314_e%C5%9Fitlikler.ipynb\" target=\"_parent\"><img src=\"https://colab.research.google.com/assets/colab-badge.svg\" alt=\"Open In Colab\"/></a>"
      ]
    },
    {
      "cell_type": "markdown",
      "metadata": {
        "id": "a5R_B1qZb6Hx"
      },
      "source": [
        "$\\dot{x}(t) = Ax(t) + Bu(t) \\rightarrow \\text{durum denklemi} \\\\\n",
        "y(t) = Cx(t) + Du(t) \\rightarrow \\text{çıkış denklemi} \\\\\n",
        "T(s) = \\frac{Y(s)}{U(s)} = C(sI-A)^{-1}B + D$"
      ]
    },
    {
      "cell_type": "markdown",
      "metadata": {
        "id": "dP9RHXj9c5hN"
      },
      "source": [
        "$T(s) = \\displaystyle \\frac{\\displaystyle \\frac{1}{RC}}{\\displaystyle s+\\frac{1}{RC}}$"
      ]
    }
  ]
}